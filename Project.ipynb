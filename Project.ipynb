{
 "cells": [
  {
   "cell_type": "markdown",
   "id": "72782ae4",
   "metadata": {},
   "source": [
    "# Project Diana Eger\n"
   ]
  },
  {
   "cell_type": "markdown",
   "id": "2c9f8e3a",
   "metadata": {},
   "source": [
    "Загрузим библиотеку Пандас и базу данных для дальнейшей работы"
   ]
  },
  {
   "cell_type": "code",
   "execution_count": 214,
   "id": "a8d88649",
   "metadata": {
    "scrolled": true
   },
   "outputs": [
    {
     "data": {
      "text/html": [
       "<div>\n",
       "<style scoped>\n",
       "    .dataframe tbody tr th:only-of-type {\n",
       "        vertical-align: middle;\n",
       "    }\n",
       "\n",
       "    .dataframe tbody tr th {\n",
       "        vertical-align: top;\n",
       "    }\n",
       "\n",
       "    .dataframe thead th {\n",
       "        text-align: right;\n",
       "    }\n",
       "</style>\n",
       "<table border=\"1\" class=\"dataframe\">\n",
       "  <thead>\n",
       "    <tr style=\"text-align: right;\">\n",
       "      <th></th>\n",
       "      <th>Country</th>\n",
       "      <th>Sex</th>\n",
       "      <th>2016</th>\n",
       "      <th>2015</th>\n",
       "      <th>2010</th>\n",
       "      <th>2000</th>\n",
       "    </tr>\n",
       "  </thead>\n",
       "  <tbody>\n",
       "    <tr>\n",
       "      <th>0</th>\n",
       "      <td>Afghanistan</td>\n",
       "      <td>Both sexes</td>\n",
       "      <td>6.4</td>\n",
       "      <td>6.6</td>\n",
       "      <td>7.4</td>\n",
       "      <td>8.1</td>\n",
       "    </tr>\n",
       "    <tr>\n",
       "      <th>1</th>\n",
       "      <td>Afghanistan</td>\n",
       "      <td>Male</td>\n",
       "      <td>10.6</td>\n",
       "      <td>10.9</td>\n",
       "      <td>12.5</td>\n",
       "      <td>14.3</td>\n",
       "    </tr>\n",
       "    <tr>\n",
       "      <th>2</th>\n",
       "      <td>Afghanistan</td>\n",
       "      <td>Female</td>\n",
       "      <td>2.1</td>\n",
       "      <td>2.1</td>\n",
       "      <td>2.1</td>\n",
       "      <td>1.7</td>\n",
       "    </tr>\n",
       "    <tr>\n",
       "      <th>3</th>\n",
       "      <td>Albania</td>\n",
       "      <td>Both sexes</td>\n",
       "      <td>5.6</td>\n",
       "      <td>5.3</td>\n",
       "      <td>7.7</td>\n",
       "      <td>5.8</td>\n",
       "    </tr>\n",
       "    <tr>\n",
       "      <th>4</th>\n",
       "      <td>Albania</td>\n",
       "      <td>Male</td>\n",
       "      <td>7.0</td>\n",
       "      <td>6.7</td>\n",
       "      <td>9.5</td>\n",
       "      <td>8.2</td>\n",
       "    </tr>\n",
       "    <tr>\n",
       "      <th>...</th>\n",
       "      <td>...</td>\n",
       "      <td>...</td>\n",
       "      <td>...</td>\n",
       "      <td>...</td>\n",
       "      <td>...</td>\n",
       "      <td>...</td>\n",
       "    </tr>\n",
       "    <tr>\n",
       "      <th>544</th>\n",
       "      <td>Zambia</td>\n",
       "      <td>Male</td>\n",
       "      <td>17.5</td>\n",
       "      <td>17.4</td>\n",
       "      <td>17.9</td>\n",
       "      <td>21.9</td>\n",
       "    </tr>\n",
       "    <tr>\n",
       "      <th>545</th>\n",
       "      <td>Zambia</td>\n",
       "      <td>Female</td>\n",
       "      <td>6.2</td>\n",
       "      <td>6.1</td>\n",
       "      <td>6.2</td>\n",
       "      <td>7.5</td>\n",
       "    </tr>\n",
       "    <tr>\n",
       "      <th>546</th>\n",
       "      <td>Zimbabwe</td>\n",
       "      <td>Both sexes</td>\n",
       "      <td>19.1</td>\n",
       "      <td>18.9</td>\n",
       "      <td>20.6</td>\n",
       "      <td>21.7</td>\n",
       "    </tr>\n",
       "    <tr>\n",
       "      <th>547</th>\n",
       "      <td>Zimbabwe</td>\n",
       "      <td>Male</td>\n",
       "      <td>29.1</td>\n",
       "      <td>28.7</td>\n",
       "      <td>32.3</td>\n",
       "      <td>35.5</td>\n",
       "    </tr>\n",
       "    <tr>\n",
       "      <th>548</th>\n",
       "      <td>Zimbabwe</td>\n",
       "      <td>Female</td>\n",
       "      <td>11.1</td>\n",
       "      <td>11.1</td>\n",
       "      <td>11.1</td>\n",
       "      <td>9.8</td>\n",
       "    </tr>\n",
       "  </tbody>\n",
       "</table>\n",
       "<p>549 rows × 6 columns</p>\n",
       "</div>"
      ],
      "text/plain": [
       "         Country          Sex  2016  2015  2010  2000\n",
       "0    Afghanistan   Both sexes   6.4   6.6   7.4   8.1\n",
       "1    Afghanistan         Male  10.6  10.9  12.5  14.3\n",
       "2    Afghanistan       Female   2.1   2.1   2.1   1.7\n",
       "3        Albania   Both sexes   5.6   5.3   7.7   5.8\n",
       "4        Albania         Male   7.0   6.7   9.5   8.2\n",
       "..           ...          ...   ...   ...   ...   ...\n",
       "544       Zambia         Male  17.5  17.4  17.9  21.9\n",
       "545       Zambia       Female   6.2   6.1   6.2   7.5\n",
       "546     Zimbabwe   Both sexes  19.1  18.9  20.6  21.7\n",
       "547     Zimbabwe         Male  29.1  28.7  32.3  35.5\n",
       "548     Zimbabwe       Female  11.1  11.1  11.1   9.8\n",
       "\n",
       "[549 rows x 6 columns]"
      ]
     },
     "execution_count": 214,
     "metadata": {},
     "output_type": "execute_result"
    }
   ],
   "source": [
    "import pandas as pd\n",
    "data = pd.read_csv('data2.csv')\n",
    "data"
   ]
  },
  {
   "cell_type": "markdown",
   "id": "499a1ff4",
   "metadata": {},
   "source": [
    "Для удобства переименуем названия колонок на русский"
   ]
  },
  {
   "cell_type": "code",
   "execution_count": 215,
   "id": "5f4f9c5e",
   "metadata": {},
   "outputs": [
    {
     "data": {
      "text/html": [
       "<div>\n",
       "<style scoped>\n",
       "    .dataframe tbody tr th:only-of-type {\n",
       "        vertical-align: middle;\n",
       "    }\n",
       "\n",
       "    .dataframe tbody tr th {\n",
       "        vertical-align: top;\n",
       "    }\n",
       "\n",
       "    .dataframe thead th {\n",
       "        text-align: right;\n",
       "    }\n",
       "</style>\n",
       "<table border=\"1\" class=\"dataframe\">\n",
       "  <thead>\n",
       "    <tr style=\"text-align: right;\">\n",
       "      <th></th>\n",
       "      <th>Страна</th>\n",
       "      <th>Пол</th>\n",
       "      <th>2016</th>\n",
       "      <th>2015</th>\n",
       "      <th>2010</th>\n",
       "      <th>2000</th>\n",
       "    </tr>\n",
       "  </thead>\n",
       "  <tbody>\n",
       "    <tr>\n",
       "      <th>0</th>\n",
       "      <td>Afghanistan</td>\n",
       "      <td>Both sexes</td>\n",
       "      <td>6.4</td>\n",
       "      <td>6.6</td>\n",
       "      <td>7.4</td>\n",
       "      <td>8.1</td>\n",
       "    </tr>\n",
       "    <tr>\n",
       "      <th>1</th>\n",
       "      <td>Afghanistan</td>\n",
       "      <td>Male</td>\n",
       "      <td>10.6</td>\n",
       "      <td>10.9</td>\n",
       "      <td>12.5</td>\n",
       "      <td>14.3</td>\n",
       "    </tr>\n",
       "    <tr>\n",
       "      <th>2</th>\n",
       "      <td>Afghanistan</td>\n",
       "      <td>Female</td>\n",
       "      <td>2.1</td>\n",
       "      <td>2.1</td>\n",
       "      <td>2.1</td>\n",
       "      <td>1.7</td>\n",
       "    </tr>\n",
       "    <tr>\n",
       "      <th>3</th>\n",
       "      <td>Albania</td>\n",
       "      <td>Both sexes</td>\n",
       "      <td>5.6</td>\n",
       "      <td>5.3</td>\n",
       "      <td>7.7</td>\n",
       "      <td>5.8</td>\n",
       "    </tr>\n",
       "    <tr>\n",
       "      <th>4</th>\n",
       "      <td>Albania</td>\n",
       "      <td>Male</td>\n",
       "      <td>7.0</td>\n",
       "      <td>6.7</td>\n",
       "      <td>9.5</td>\n",
       "      <td>8.2</td>\n",
       "    </tr>\n",
       "  </tbody>\n",
       "</table>\n",
       "</div>"
      ],
      "text/plain": [
       "        Страна          Пол  2016  2015  2010  2000\n",
       "0  Afghanistan   Both sexes   6.4   6.6   7.4   8.1\n",
       "1  Afghanistan         Male  10.6  10.9  12.5  14.3\n",
       "2  Afghanistan       Female   2.1   2.1   2.1   1.7\n",
       "3      Albania   Both sexes   5.6   5.3   7.7   5.8\n",
       "4      Albania         Male   7.0   6.7   9.5   8.2"
      ]
     },
     "execution_count": 215,
     "metadata": {},
     "output_type": "execute_result"
    }
   ],
   "source": [
    "data.rename(columns = {'Country':'Страна',\n",
    "                      'Sex':'Пол'}, inplace = True)\n",
    "data.head()"
   ]
  },
  {
   "cell_type": "markdown",
   "id": "fe60847d",
   "metadata": {},
   "source": [
    "Находим отклонение"
   ]
  },
  {
   "cell_type": "code",
   "execution_count": 216,
   "id": "a8b53951",
   "metadata": {},
   "outputs": [
    {
     "name": "stdout",
     "output_type": "stream",
     "text": [
      "1666896920.164994\n",
      "Столбец 2000 имеет среднеквадратичное отклонение равное 10.37831849105209\n",
      "0.0023260116577148438\n"
     ]
    }
   ],
   "source": [
    "import time\n",
    "start_time = time.time()\n",
    "print(start_time)\n",
    "column = '2000'\n",
    "\n",
    "print(f'Столбец {column} имеет среднеквадратичное отклонение равное {data[column].std()}')\n",
    "\n",
    "run_time = time.time() - start_time\n",
    "print(run_time)"
   ]
  },
  {
   "cell_type": "markdown",
   "id": "d9e12317",
   "metadata": {},
   "source": [
    "Находим крайние значения для самоубийств в 2000 году"
   ]
  },
  {
   "cell_type": "code",
   "execution_count": 217,
   "id": "90e8ddb3",
   "metadata": {
    "scrolled": true
   },
   "outputs": [
    {
     "data": {
      "text/plain": [
       "85.8"
      ]
     },
     "execution_count": 217,
     "metadata": {},
     "output_type": "execute_result"
    }
   ],
   "source": [
    "data['2000'].max()"
   ]
  },
  {
   "cell_type": "code",
   "execution_count": 218,
   "id": "35c6fe43",
   "metadata": {},
   "outputs": [
    {
     "data": {
      "text/plain": [
       "0.1"
      ]
     },
     "execution_count": 218,
     "metadata": {},
     "output_type": "execute_result"
    }
   ],
   "source": [
    "data['2000'].min()"
   ]
  },
  {
   "cell_type": "markdown",
   "id": "4c0741c9",
   "metadata": {},
   "source": [
    "Находим соотношение между значениями"
   ]
  },
  {
   "cell_type": "code",
   "execution_count": 219,
   "id": "5dd6a9b7",
   "metadata": {},
   "outputs": [
    {
     "data": {
      "text/plain": [
       "14      0.1\n",
       "41      0.5\n",
       "32      0.7\n",
       "248     0.8\n",
       "479     0.8\n",
       "       ... \n",
       "511    58.1\n",
       "256    63.1\n",
       "43     70.4\n",
       "289    81.7\n",
       "406    85.8\n",
       "Name: 2000, Length: 549, dtype: float64"
      ]
     },
     "execution_count": 219,
     "metadata": {},
     "output_type": "execute_result"
    }
   ],
   "source": [
    "data['2000'].sort_values()"
   ]
  },
  {
   "cell_type": "code",
   "execution_count": 220,
   "id": "3905ba26",
   "metadata": {},
   "outputs": [
    {
     "data": {
      "text/plain": [
       "12.164116575591983"
      ]
     },
     "execution_count": 220,
     "metadata": {},
     "output_type": "execute_result"
    }
   ],
   "source": [
    "data['2000'].mean()"
   ]
  },
  {
   "cell_type": "markdown",
   "id": "5e1c9d94",
   "metadata": {},
   "source": [
    "Выводим всевозможные соотношения за разные годы"
   ]
  },
  {
   "cell_type": "code",
   "execution_count": 221,
   "id": "8bf61a1b",
   "metadata": {
    "scrolled": true
   },
   "outputs": [
    {
     "data": {
      "text/plain": [
       "count    549.000000\n",
       "mean      12.164117\n",
       "std       10.378318\n",
       "min        0.100000\n",
       "25%        5.100000\n",
       "50%        9.500000\n",
       "75%       16.000000\n",
       "max       85.800000\n",
       "Name: 2000, dtype: float64"
      ]
     },
     "execution_count": 221,
     "metadata": {},
     "output_type": "execute_result"
    }
   ],
   "source": [
    "data['2000'].describe()"
   ]
  },
  {
   "cell_type": "code",
   "execution_count": 222,
   "id": "b2a18ded",
   "metadata": {},
   "outputs": [
    {
     "name": "stdout",
     "output_type": "stream",
     "text": [
      "1666896920.271154\n",
      "Столбец 2010 имеет среднеквадратичное отклонение равное 8.62017438526615\n",
      "0.002666950225830078\n"
     ]
    }
   ],
   "source": [
    "import time\n",
    "start_time = time.time()\n",
    "print(start_time)\n",
    "column = '2010'\n",
    "\n",
    "print(f'Столбец {column} имеет среднеквадратичное отклонение равное {data[column].std()}')\n",
    "\n",
    "run_time = time.time() - start_time\n",
    "print(run_time)"
   ]
  },
  {
   "cell_type": "code",
   "execution_count": 223,
   "id": "5477d57b",
   "metadata": {},
   "outputs": [
    {
     "data": {
      "text/plain": [
       "62.3"
      ]
     },
     "execution_count": 223,
     "metadata": {},
     "output_type": "execute_result"
    }
   ],
   "source": [
    "data['2010'].max()"
   ]
  },
  {
   "cell_type": "code",
   "execution_count": 224,
   "id": "2bcb986f",
   "metadata": {},
   "outputs": [
    {
     "data": {
      "text/plain": [
       "0.0"
      ]
     },
     "execution_count": 224,
     "metadata": {},
     "output_type": "execute_result"
    }
   ],
   "source": [
    "data['2010'].min()"
   ]
  },
  {
   "cell_type": "code",
   "execution_count": 225,
   "id": "0dc7bb38",
   "metadata": {},
   "outputs": [
    {
     "data": {
      "text/plain": [
       "10.544990892531876"
      ]
     },
     "execution_count": 225,
     "metadata": {},
     "output_type": "execute_result"
    }
   ],
   "source": [
    "data['2010'].mean()"
   ]
  },
  {
   "cell_type": "code",
   "execution_count": 226,
   "id": "110e4d8c",
   "metadata": {},
   "outputs": [
    {
     "data": {
      "text/plain": [
       "14      0.0\n",
       "200     0.0\n",
       "12      0.2\n",
       "13      0.5\n",
       "197     0.6\n",
       "       ... \n",
       "211    44.9\n",
       "256    56.1\n",
       "289    56.4\n",
       "43     58.1\n",
       "406    62.3\n",
       "Name: 2010, Length: 549, dtype: float64"
      ]
     },
     "execution_count": 226,
     "metadata": {},
     "output_type": "execute_result"
    }
   ],
   "source": [
    "data['2010'].sort_values()"
   ]
  },
  {
   "cell_type": "code",
   "execution_count": 227,
   "id": "69d892b1",
   "metadata": {
    "scrolled": true
   },
   "outputs": [
    {
     "data": {
      "text/plain": [
       "count    549.000000\n",
       "mean      10.544991\n",
       "std        8.620174\n",
       "min        0.000000\n",
       "25%        4.700000\n",
       "50%        8.400000\n",
       "75%       14.100000\n",
       "max       62.300000\n",
       "Name: 2010, dtype: float64"
      ]
     },
     "execution_count": 227,
     "metadata": {},
     "output_type": "execute_result"
    }
   ],
   "source": [
    "data['2010'].describe()"
   ]
  },
  {
   "cell_type": "code",
   "execution_count": 228,
   "id": "be4f2c0b",
   "metadata": {},
   "outputs": [
    {
     "name": "stdout",
     "output_type": "stream",
     "text": [
      "1666896920.415458\n",
      "Столбец 2015 имеет среднеквадратичное отклонение равное 7.633240774676459\n",
      "0.0029439926147460938\n"
     ]
    }
   ],
   "source": [
    "import time\n",
    "start_time = time.time()\n",
    "print(start_time)\n",
    "column = '2015'\n",
    "\n",
    "print(f'Столбец {column} имеет среднеквадратичное отклонение равное {data[column].std()}')\n",
    "\n",
    "run_time = time.time() - start_time\n",
    "print(run_time)"
   ]
  },
  {
   "cell_type": "code",
   "execution_count": 229,
   "id": "c27519cd",
   "metadata": {},
   "outputs": [
    {
     "data": {
      "text/plain": [
       "51.5"
      ]
     },
     "execution_count": 229,
     "metadata": {},
     "output_type": "execute_result"
    }
   ],
   "source": [
    "data['2015'].max()"
   ]
  },
  {
   "cell_type": "code",
   "execution_count": 230,
   "id": "24b49d3b",
   "metadata": {},
   "outputs": [
    {
     "data": {
      "text/plain": [
       "0.0"
      ]
     },
     "execution_count": 230,
     "metadata": {},
     "output_type": "execute_result"
    }
   ],
   "source": [
    "data['2015'].min()"
   ]
  },
  {
   "cell_type": "code",
   "execution_count": 231,
   "id": "b92ef921",
   "metadata": {},
   "outputs": [
    {
     "data": {
      "text/plain": [
       "9.925683060109286"
      ]
     },
     "execution_count": 231,
     "metadata": {},
     "output_type": "execute_result"
    }
   ],
   "source": [
    "data['2015'].mean()"
   ]
  },
  {
   "cell_type": "code",
   "execution_count": 232,
   "id": "d58ebaa0",
   "metadata": {},
   "outputs": [
    {
     "data": {
      "text/plain": [
       "13      0.0\n",
       "41      0.3\n",
       "39      0.4\n",
       "32      0.5\n",
       "200     0.6\n",
       "       ... \n",
       "43     39.2\n",
       "256    44.2\n",
       "211    46.6\n",
       "406    49.9\n",
       "289    51.5\n",
       "Name: 2015, Length: 549, dtype: float64"
      ]
     },
     "execution_count": 232,
     "metadata": {},
     "output_type": "execute_result"
    }
   ],
   "source": [
    "data['2015'].sort_values()"
   ]
  },
  {
   "cell_type": "code",
   "execution_count": 233,
   "id": "9e3047b6",
   "metadata": {},
   "outputs": [
    {
     "data": {
      "text/plain": [
       "count    549.000000\n",
       "mean       9.925683\n",
       "std        7.633241\n",
       "min        0.000000\n",
       "25%        4.400000\n",
       "50%        8.100000\n",
       "75%       13.300000\n",
       "max       51.500000\n",
       "Name: 2015, dtype: float64"
      ]
     },
     "execution_count": 233,
     "metadata": {},
     "output_type": "execute_result"
    }
   ],
   "source": [
    "data['2015'].describe()"
   ]
  },
  {
   "cell_type": "code",
   "execution_count": 234,
   "id": "a33faf3a",
   "metadata": {},
   "outputs": [
    {
     "name": "stdout",
     "output_type": "stream",
     "text": [
      "1666896920.567713\n",
      "Столбец 2016 имеет среднеквадратичное отклонение равное 7.469341153276958\n",
      "0.001856088638305664\n"
     ]
    }
   ],
   "source": [
    "import time\n",
    "start_time = time.time()\n",
    "print(start_time)\n",
    "column = '2016'\n",
    "\n",
    "print(f'Столбец {column} имеет среднеквадратичное отклонение равное {data[column].std()}')\n",
    "\n",
    "run_time = time.time() - start_time\n",
    "print(run_time)"
   ]
  },
  {
   "cell_type": "code",
   "execution_count": 235,
   "id": "1a761f8d",
   "metadata": {},
   "outputs": [
    {
     "data": {
      "text/plain": [
       "48.3"
      ]
     },
     "execution_count": 235,
     "metadata": {},
     "output_type": "execute_result"
    }
   ],
   "source": [
    "data['2016'].max()"
   ]
  },
  {
   "cell_type": "code",
   "execution_count": 236,
   "id": "b7ca77b9",
   "metadata": {},
   "outputs": [
    {
     "data": {
      "text/plain": [
       "0.0"
      ]
     },
     "execution_count": 236,
     "metadata": {},
     "output_type": "execute_result"
    }
   ],
   "source": [
    "data['2016'].min()"
   ]
  },
  {
   "cell_type": "code",
   "execution_count": 237,
   "id": "b32f41d3",
   "metadata": {},
   "outputs": [
    {
     "data": {
      "text/plain": [
       "9.792531876138423"
      ]
     },
     "execution_count": 237,
     "metadata": {},
     "output_type": "execute_result"
    }
   ],
   "source": [
    "data['2016'].mean()"
   ]
  },
  {
   "cell_type": "code",
   "execution_count": 238,
   "id": "fdd24966",
   "metadata": {},
   "outputs": [
    {
     "data": {
      "text/plain": [
       "13      0.0\n",
       "41      0.3\n",
       "39      0.4\n",
       "32      0.5\n",
       "12      0.5\n",
       "       ... \n",
       "43     39.3\n",
       "256    40.1\n",
       "211    46.6\n",
       "289    47.5\n",
       "406    48.3\n",
       "Name: 2016, Length: 549, dtype: float64"
      ]
     },
     "execution_count": 238,
     "metadata": {},
     "output_type": "execute_result"
    }
   ],
   "source": [
    "data['2016'].sort_values()"
   ]
  },
  {
   "cell_type": "code",
   "execution_count": 239,
   "id": "6a79a89e",
   "metadata": {},
   "outputs": [
    {
     "data": {
      "text/plain": [
       "count    549.000000\n",
       "mean       9.792532\n",
       "std        7.469341\n",
       "min        0.000000\n",
       "25%        4.300000\n",
       "50%        7.900000\n",
       "75%       13.400000\n",
       "max       48.300000\n",
       "Name: 2016, dtype: float64"
      ]
     },
     "execution_count": 239,
     "metadata": {},
     "output_type": "execute_result"
    }
   ],
   "source": [
    "data['2016'].describe()"
   ]
  },
  {
   "cell_type": "markdown",
   "id": "3309b5d5",
   "metadata": {},
   "source": [
    "Узнаем тип данных для последующих сравнений"
   ]
  },
  {
   "cell_type": "code",
   "execution_count": 240,
   "id": "be17abf8",
   "metadata": {},
   "outputs": [
    {
     "name": "stdout",
     "output_type": "stream",
     "text": [
      "<class 'pandas.core.frame.DataFrame'>\n",
      "RangeIndex: 549 entries, 0 to 548\n",
      "Data columns (total 6 columns):\n",
      " #   Column  Non-Null Count  Dtype  \n",
      "---  ------  --------------  -----  \n",
      " 0   Страна  549 non-null    object \n",
      " 1   Пол     549 non-null    object \n",
      " 2   2016    549 non-null    float64\n",
      " 3   2015    549 non-null    float64\n",
      " 4   2010    549 non-null    float64\n",
      " 5   2000    549 non-null    float64\n",
      "dtypes: float64(4), object(2)\n",
      "memory usage: 25.9+ KB\n"
     ]
    }
   ],
   "source": [
    "data.info()"
   ]
  },
  {
   "cell_type": "markdown",
   "id": "47b27d87",
   "metadata": {},
   "source": [
    "Выводим процентное соотношение самоубийств по странам в разные годы "
   ]
  },
  {
   "cell_type": "code",
   "execution_count": 241,
   "id": "f7518242",
   "metadata": {},
   "outputs": [
    {
     "data": {
      "text/html": [
       "<div>\n",
       "<style scoped>\n",
       "    .dataframe tbody tr th:only-of-type {\n",
       "        vertical-align: middle;\n",
       "    }\n",
       "\n",
       "    .dataframe tbody tr th {\n",
       "        vertical-align: top;\n",
       "    }\n",
       "\n",
       "    .dataframe thead th {\n",
       "        text-align: right;\n",
       "    }\n",
       "</style>\n",
       "<table border=\"1\" class=\"dataframe\">\n",
       "  <thead>\n",
       "    <tr style=\"text-align: right;\">\n",
       "      <th></th>\n",
       "      <th>2000</th>\n",
       "    </tr>\n",
       "    <tr>\n",
       "      <th>Страна</th>\n",
       "      <th></th>\n",
       "    </tr>\n",
       "  </thead>\n",
       "  <tbody>\n",
       "    <tr>\n",
       "      <th>Afghanistan</th>\n",
       "      <td>8.033333</td>\n",
       "    </tr>\n",
       "    <tr>\n",
       "      <th>Albania</th>\n",
       "      <td>5.866667</td>\n",
       "    </tr>\n",
       "    <tr>\n",
       "      <th>Algeria</th>\n",
       "      <td>4.733333</td>\n",
       "    </tr>\n",
       "    <tr>\n",
       "      <th>Angola</th>\n",
       "      <td>14.333333</td>\n",
       "    </tr>\n",
       "    <tr>\n",
       "      <th>Antigua and Barbuda</th>\n",
       "      <td>2.166667</td>\n",
       "    </tr>\n",
       "    <tr>\n",
       "      <th>...</th>\n",
       "      <td>...</td>\n",
       "    </tr>\n",
       "    <tr>\n",
       "      <th>Venezuela (Bolivarian Republic of)</th>\n",
       "      <td>9.200000</td>\n",
       "    </tr>\n",
       "    <tr>\n",
       "      <th>Viet Nam</th>\n",
       "      <td>7.633333</td>\n",
       "    </tr>\n",
       "    <tr>\n",
       "      <th>Yemen</th>\n",
       "      <td>9.133333</td>\n",
       "    </tr>\n",
       "    <tr>\n",
       "      <th>Zambia</th>\n",
       "      <td>14.500000</td>\n",
       "    </tr>\n",
       "    <tr>\n",
       "      <th>Zimbabwe</th>\n",
       "      <td>22.333333</td>\n",
       "    </tr>\n",
       "  </tbody>\n",
       "</table>\n",
       "<p>183 rows × 1 columns</p>\n",
       "</div>"
      ],
      "text/plain": [
       "                                         2000\n",
       "Страна                                       \n",
       "Afghanistan                          8.033333\n",
       "Albania                              5.866667\n",
       "Algeria                              4.733333\n",
       "Angola                              14.333333\n",
       "Antigua and Barbuda                  2.166667\n",
       "...                                       ...\n",
       "Venezuela (Bolivarian Republic of)   9.200000\n",
       "Viet Nam                             7.633333\n",
       "Yemen                                9.133333\n",
       "Zambia                              14.500000\n",
       "Zimbabwe                            22.333333\n",
       "\n",
       "[183 rows x 1 columns]"
      ]
     },
     "execution_count": 241,
     "metadata": {},
     "output_type": "execute_result"
    }
   ],
   "source": [
    "data.groupby('Страна')['2000'].mean().to_frame()"
   ]
  },
  {
   "cell_type": "code",
   "execution_count": 242,
   "id": "f8269d61",
   "metadata": {},
   "outputs": [
    {
     "data": {
      "text/html": [
       "<div>\n",
       "<style scoped>\n",
       "    .dataframe tbody tr th:only-of-type {\n",
       "        vertical-align: middle;\n",
       "    }\n",
       "\n",
       "    .dataframe tbody tr th {\n",
       "        vertical-align: top;\n",
       "    }\n",
       "\n",
       "    .dataframe thead th {\n",
       "        text-align: right;\n",
       "    }\n",
       "</style>\n",
       "<table border=\"1\" class=\"dataframe\">\n",
       "  <thead>\n",
       "    <tr style=\"text-align: right;\">\n",
       "      <th></th>\n",
       "      <th>2010</th>\n",
       "    </tr>\n",
       "    <tr>\n",
       "      <th>Страна</th>\n",
       "      <th></th>\n",
       "    </tr>\n",
       "  </thead>\n",
       "  <tbody>\n",
       "    <tr>\n",
       "      <th>Afghanistan</th>\n",
       "      <td>7.333333</td>\n",
       "    </tr>\n",
       "    <tr>\n",
       "      <th>Albania</th>\n",
       "      <td>7.733333</td>\n",
       "    </tr>\n",
       "    <tr>\n",
       "      <th>Algeria</th>\n",
       "      <td>3.500000</td>\n",
       "    </tr>\n",
       "    <tr>\n",
       "      <th>Angola</th>\n",
       "      <td>10.733333</td>\n",
       "    </tr>\n",
       "    <tr>\n",
       "      <th>Antigua and Barbuda</th>\n",
       "      <td>0.233333</td>\n",
       "    </tr>\n",
       "    <tr>\n",
       "      <th>...</th>\n",
       "      <td>...</td>\n",
       "    </tr>\n",
       "    <tr>\n",
       "      <th>Venezuela (Bolivarian Republic of)</th>\n",
       "      <td>4.566667</td>\n",
       "    </tr>\n",
       "    <tr>\n",
       "      <th>Viet Nam</th>\n",
       "      <td>7.200000</td>\n",
       "    </tr>\n",
       "    <tr>\n",
       "      <th>Yemen</th>\n",
       "      <td>10.600000</td>\n",
       "    </tr>\n",
       "    <tr>\n",
       "      <th>Zambia</th>\n",
       "      <td>11.866667</td>\n",
       "    </tr>\n",
       "    <tr>\n",
       "      <th>Zimbabwe</th>\n",
       "      <td>21.333333</td>\n",
       "    </tr>\n",
       "  </tbody>\n",
       "</table>\n",
       "<p>183 rows × 1 columns</p>\n",
       "</div>"
      ],
      "text/plain": [
       "                                         2010\n",
       "Страна                                       \n",
       "Afghanistan                          7.333333\n",
       "Albania                              7.733333\n",
       "Algeria                              3.500000\n",
       "Angola                              10.733333\n",
       "Antigua and Barbuda                  0.233333\n",
       "...                                       ...\n",
       "Venezuela (Bolivarian Republic of)   4.566667\n",
       "Viet Nam                             7.200000\n",
       "Yemen                               10.600000\n",
       "Zambia                              11.866667\n",
       "Zimbabwe                            21.333333\n",
       "\n",
       "[183 rows x 1 columns]"
      ]
     },
     "execution_count": 242,
     "metadata": {},
     "output_type": "execute_result"
    }
   ],
   "source": [
    "data.groupby('Страна')['2010'].mean().to_frame()"
   ]
  },
  {
   "cell_type": "code",
   "execution_count": 243,
   "id": "8b4da2b7",
   "metadata": {},
   "outputs": [
    {
     "data": {
      "text/html": [
       "<div>\n",
       "<style scoped>\n",
       "    .dataframe tbody tr th:only-of-type {\n",
       "        vertical-align: middle;\n",
       "    }\n",
       "\n",
       "    .dataframe tbody tr th {\n",
       "        vertical-align: top;\n",
       "    }\n",
       "\n",
       "    .dataframe thead th {\n",
       "        text-align: right;\n",
       "    }\n",
       "</style>\n",
       "<table border=\"1\" class=\"dataframe\">\n",
       "  <thead>\n",
       "    <tr style=\"text-align: right;\">\n",
       "      <th></th>\n",
       "      <th>2015</th>\n",
       "    </tr>\n",
       "    <tr>\n",
       "      <th>Страна</th>\n",
       "      <th></th>\n",
       "    </tr>\n",
       "  </thead>\n",
       "  <tbody>\n",
       "    <tr>\n",
       "      <th>Afghanistan</th>\n",
       "      <td>6.533333</td>\n",
       "    </tr>\n",
       "    <tr>\n",
       "      <th>Albania</th>\n",
       "      <td>5.333333</td>\n",
       "    </tr>\n",
       "    <tr>\n",
       "      <th>Algeria</th>\n",
       "      <td>3.400000</td>\n",
       "    </tr>\n",
       "    <tr>\n",
       "      <th>Angola</th>\n",
       "      <td>9.600000</td>\n",
       "    </tr>\n",
       "    <tr>\n",
       "      <th>Antigua and Barbuda</th>\n",
       "      <td>0.800000</td>\n",
       "    </tr>\n",
       "    <tr>\n",
       "      <th>...</th>\n",
       "      <td>...</td>\n",
       "    </tr>\n",
       "    <tr>\n",
       "      <th>Venezuela (Bolivarian Republic of)</th>\n",
       "      <td>3.966667</td>\n",
       "    </tr>\n",
       "    <tr>\n",
       "      <th>Viet Nam</th>\n",
       "      <td>7.133333</td>\n",
       "    </tr>\n",
       "    <tr>\n",
       "      <th>Yemen</th>\n",
       "      <td>9.933333</td>\n",
       "    </tr>\n",
       "    <tr>\n",
       "      <th>Zambia</th>\n",
       "      <td>11.566667</td>\n",
       "    </tr>\n",
       "    <tr>\n",
       "      <th>Zimbabwe</th>\n",
       "      <td>19.566667</td>\n",
       "    </tr>\n",
       "  </tbody>\n",
       "</table>\n",
       "<p>183 rows × 1 columns</p>\n",
       "</div>"
      ],
      "text/plain": [
       "                                         2015\n",
       "Страна                                       \n",
       "Afghanistan                          6.533333\n",
       "Albania                              5.333333\n",
       "Algeria                              3.400000\n",
       "Angola                               9.600000\n",
       "Antigua and Barbuda                  0.800000\n",
       "...                                       ...\n",
       "Venezuela (Bolivarian Republic of)   3.966667\n",
       "Viet Nam                             7.133333\n",
       "Yemen                                9.933333\n",
       "Zambia                              11.566667\n",
       "Zimbabwe                            19.566667\n",
       "\n",
       "[183 rows x 1 columns]"
      ]
     },
     "execution_count": 243,
     "metadata": {},
     "output_type": "execute_result"
    }
   ],
   "source": [
    "data.groupby('Страна')['2015'].mean().to_frame()"
   ]
  },
  {
   "cell_type": "code",
   "execution_count": 244,
   "id": "f800012e",
   "metadata": {},
   "outputs": [
    {
     "data": {
      "text/html": [
       "<div>\n",
       "<style scoped>\n",
       "    .dataframe tbody tr th:only-of-type {\n",
       "        vertical-align: middle;\n",
       "    }\n",
       "\n",
       "    .dataframe tbody tr th {\n",
       "        vertical-align: top;\n",
       "    }\n",
       "\n",
       "    .dataframe thead th {\n",
       "        text-align: right;\n",
       "    }\n",
       "</style>\n",
       "<table border=\"1\" class=\"dataframe\">\n",
       "  <thead>\n",
       "    <tr style=\"text-align: right;\">\n",
       "      <th></th>\n",
       "      <th>2016</th>\n",
       "    </tr>\n",
       "    <tr>\n",
       "      <th>Страна</th>\n",
       "      <th></th>\n",
       "    </tr>\n",
       "  </thead>\n",
       "  <tbody>\n",
       "    <tr>\n",
       "      <th>Afghanistan</th>\n",
       "      <td>6.366667</td>\n",
       "    </tr>\n",
       "    <tr>\n",
       "      <th>Albania</th>\n",
       "      <td>5.633333</td>\n",
       "    </tr>\n",
       "    <tr>\n",
       "      <th>Algeria</th>\n",
       "      <td>3.333333</td>\n",
       "    </tr>\n",
       "    <tr>\n",
       "      <th>Angola</th>\n",
       "      <td>9.166667</td>\n",
       "    </tr>\n",
       "    <tr>\n",
       "      <th>Antigua and Barbuda</th>\n",
       "      <td>0.466667</td>\n",
       "    </tr>\n",
       "    <tr>\n",
       "      <th>...</th>\n",
       "      <td>...</td>\n",
       "    </tr>\n",
       "    <tr>\n",
       "      <th>Venezuela (Bolivarian Republic of)</th>\n",
       "      <td>3.866667</td>\n",
       "    </tr>\n",
       "    <tr>\n",
       "      <th>Viet Nam</th>\n",
       "      <td>7.066667</td>\n",
       "    </tr>\n",
       "    <tr>\n",
       "      <th>Yemen</th>\n",
       "      <td>9.800000</td>\n",
       "    </tr>\n",
       "    <tr>\n",
       "      <th>Zambia</th>\n",
       "      <td>11.666667</td>\n",
       "    </tr>\n",
       "    <tr>\n",
       "      <th>Zimbabwe</th>\n",
       "      <td>19.766667</td>\n",
       "    </tr>\n",
       "  </tbody>\n",
       "</table>\n",
       "<p>183 rows × 1 columns</p>\n",
       "</div>"
      ],
      "text/plain": [
       "                                         2016\n",
       "Страна                                       \n",
       "Afghanistan                          6.366667\n",
       "Albania                              5.633333\n",
       "Algeria                              3.333333\n",
       "Angola                               9.166667\n",
       "Antigua and Barbuda                  0.466667\n",
       "...                                       ...\n",
       "Venezuela (Bolivarian Republic of)   3.866667\n",
       "Viet Nam                             7.066667\n",
       "Yemen                                9.800000\n",
       "Zambia                              11.666667\n",
       "Zimbabwe                            19.766667\n",
       "\n",
       "[183 rows x 1 columns]"
      ]
     },
     "execution_count": 244,
     "metadata": {},
     "output_type": "execute_result"
    }
   ],
   "source": [
    "data.groupby('Страна')['2016'].mean().to_frame()"
   ]
  },
  {
   "cell_type": "markdown",
   "id": "4c83c55d",
   "metadata": {},
   "source": [
    "Выводим процентное соотношение самоубийств по гендерному признаку в разные годы "
   ]
  },
  {
   "cell_type": "code",
   "execution_count": 245,
   "id": "4c65f04b",
   "metadata": {},
   "outputs": [
    {
     "data": {
      "text/html": [
       "<div>\n",
       "<style scoped>\n",
       "    .dataframe tbody tr th:only-of-type {\n",
       "        vertical-align: middle;\n",
       "    }\n",
       "\n",
       "    .dataframe tbody tr th {\n",
       "        vertical-align: top;\n",
       "    }\n",
       "\n",
       "    .dataframe thead th {\n",
       "        text-align: right;\n",
       "    }\n",
       "</style>\n",
       "<table border=\"1\" class=\"dataframe\">\n",
       "  <thead>\n",
       "    <tr style=\"text-align: right;\">\n",
       "      <th></th>\n",
       "      <th>2000</th>\n",
       "    </tr>\n",
       "    <tr>\n",
       "      <th>Пол</th>\n",
       "      <th></th>\n",
       "    </tr>\n",
       "  </thead>\n",
       "  <tbody>\n",
       "    <tr>\n",
       "      <th>Both sexes</th>\n",
       "      <td>11.996721</td>\n",
       "    </tr>\n",
       "    <tr>\n",
       "      <th>Female</th>\n",
       "      <td>6.368306</td>\n",
       "    </tr>\n",
       "    <tr>\n",
       "      <th>Male</th>\n",
       "      <td>18.127322</td>\n",
       "    </tr>\n",
       "  </tbody>\n",
       "</table>\n",
       "</div>"
      ],
      "text/plain": [
       "                  2000\n",
       "Пол                   \n",
       " Both sexes  11.996721\n",
       " Female       6.368306\n",
       " Male        18.127322"
      ]
     },
     "execution_count": 245,
     "metadata": {},
     "output_type": "execute_result"
    }
   ],
   "source": [
    "data.groupby('Пол')['2000'].mean().to_frame()"
   ]
  },
  {
   "cell_type": "code",
   "execution_count": 246,
   "id": "a60e0cbb",
   "metadata": {},
   "outputs": [
    {
     "data": {
      "text/html": [
       "<div>\n",
       "<style scoped>\n",
       "    .dataframe tbody tr th:only-of-type {\n",
       "        vertical-align: middle;\n",
       "    }\n",
       "\n",
       "    .dataframe tbody tr th {\n",
       "        vertical-align: top;\n",
       "    }\n",
       "\n",
       "    .dataframe thead th {\n",
       "        text-align: right;\n",
       "    }\n",
       "</style>\n",
       "<table border=\"1\" class=\"dataframe\">\n",
       "  <thead>\n",
       "    <tr style=\"text-align: right;\">\n",
       "      <th></th>\n",
       "      <th>2010</th>\n",
       "    </tr>\n",
       "    <tr>\n",
       "      <th>Пол</th>\n",
       "      <th></th>\n",
       "    </tr>\n",
       "  </thead>\n",
       "  <tbody>\n",
       "    <tr>\n",
       "      <th>Both sexes</th>\n",
       "      <td>10.414754</td>\n",
       "    </tr>\n",
       "    <tr>\n",
       "      <th>Female</th>\n",
       "      <td>5.481421</td>\n",
       "    </tr>\n",
       "    <tr>\n",
       "      <th>Male</th>\n",
       "      <td>15.738798</td>\n",
       "    </tr>\n",
       "  </tbody>\n",
       "</table>\n",
       "</div>"
      ],
      "text/plain": [
       "                  2010\n",
       "Пол                   \n",
       " Both sexes  10.414754\n",
       " Female       5.481421\n",
       " Male        15.738798"
      ]
     },
     "execution_count": 246,
     "metadata": {},
     "output_type": "execute_result"
    }
   ],
   "source": [
    "data.groupby('Пол')['2010'].mean().to_frame()"
   ]
  },
  {
   "cell_type": "code",
   "execution_count": 247,
   "id": "ed4f2626",
   "metadata": {},
   "outputs": [
    {
     "data": {
      "text/html": [
       "<div>\n",
       "<style scoped>\n",
       "    .dataframe tbody tr th:only-of-type {\n",
       "        vertical-align: middle;\n",
       "    }\n",
       "\n",
       "    .dataframe tbody tr th {\n",
       "        vertical-align: top;\n",
       "    }\n",
       "\n",
       "    .dataframe thead th {\n",
       "        text-align: right;\n",
       "    }\n",
       "</style>\n",
       "<table border=\"1\" class=\"dataframe\">\n",
       "  <thead>\n",
       "    <tr style=\"text-align: right;\">\n",
       "      <th></th>\n",
       "      <th>2015</th>\n",
       "    </tr>\n",
       "    <tr>\n",
       "      <th>Пол</th>\n",
       "      <th></th>\n",
       "    </tr>\n",
       "  </thead>\n",
       "  <tbody>\n",
       "    <tr>\n",
       "      <th>Both sexes</th>\n",
       "      <td>9.807104</td>\n",
       "    </tr>\n",
       "    <tr>\n",
       "      <th>Female</th>\n",
       "      <td>5.192350</td>\n",
       "    </tr>\n",
       "    <tr>\n",
       "      <th>Male</th>\n",
       "      <td>14.777596</td>\n",
       "    </tr>\n",
       "  </tbody>\n",
       "</table>\n",
       "</div>"
      ],
      "text/plain": [
       "                  2015\n",
       "Пол                   \n",
       " Both sexes   9.807104\n",
       " Female       5.192350\n",
       " Male        14.777596"
      ]
     },
     "execution_count": 247,
     "metadata": {},
     "output_type": "execute_result"
    }
   ],
   "source": [
    "data.groupby('Пол')['2015'].mean().to_frame()"
   ]
  },
  {
   "cell_type": "code",
   "execution_count": 248,
   "id": "2e8c036c",
   "metadata": {},
   "outputs": [
    {
     "data": {
      "text/html": [
       "<div>\n",
       "<style scoped>\n",
       "    .dataframe tbody tr th:only-of-type {\n",
       "        vertical-align: middle;\n",
       "    }\n",
       "\n",
       "    .dataframe tbody tr th {\n",
       "        vertical-align: top;\n",
       "    }\n",
       "\n",
       "    .dataframe thead th {\n",
       "        text-align: right;\n",
       "    }\n",
       "</style>\n",
       "<table border=\"1\" class=\"dataframe\">\n",
       "  <thead>\n",
       "    <tr style=\"text-align: right;\">\n",
       "      <th></th>\n",
       "      <th>2016</th>\n",
       "    </tr>\n",
       "    <tr>\n",
       "      <th>Пол</th>\n",
       "      <th></th>\n",
       "    </tr>\n",
       "  </thead>\n",
       "  <tbody>\n",
       "    <tr>\n",
       "      <th>Both sexes</th>\n",
       "      <td>9.682514</td>\n",
       "    </tr>\n",
       "    <tr>\n",
       "      <th>Female</th>\n",
       "      <td>5.092896</td>\n",
       "    </tr>\n",
       "    <tr>\n",
       "      <th>Male</th>\n",
       "      <td>14.602186</td>\n",
       "    </tr>\n",
       "  </tbody>\n",
       "</table>\n",
       "</div>"
      ],
      "text/plain": [
       "                  2016\n",
       "Пол                   \n",
       " Both sexes   9.682514\n",
       " Female       5.092896\n",
       " Male        14.602186"
      ]
     },
     "execution_count": 248,
     "metadata": {},
     "output_type": "execute_result"
    }
   ],
   "source": [
    "data.groupby('Пол')['2016'].mean().to_frame()"
   ]
  },
  {
   "cell_type": "markdown",
   "id": "2f9125e9",
   "metadata": {},
   "source": [
    "## Страны с максимальным процентом суицида за год"
   ]
  },
  {
   "cell_type": "code",
   "execution_count": 249,
   "id": "1d1bf0ca",
   "metadata": {},
   "outputs": [
    {
     "data": {
      "text/plain": [
       "406    Russian Federation\n",
       "Name: Страна, dtype: object"
      ]
     },
     "execution_count": 249,
     "metadata": {},
     "output_type": "execute_result"
    }
   ],
   "source": [
    "data.loc[data[data['2000'] == data['2000'].max()].index, 'Страна']"
   ]
  },
  {
   "cell_type": "code",
   "execution_count": 250,
   "id": "a9d40db9",
   "metadata": {},
   "outputs": [
    {
     "data": {
      "text/plain": [
       "406    Russian Federation\n",
       "Name: Страна, dtype: object"
      ]
     },
     "execution_count": 250,
     "metadata": {},
     "output_type": "execute_result"
    }
   ],
   "source": [
    "data.loc[data[data['2010'] == data['2010'].max()].index, 'Страна']"
   ]
  },
  {
   "cell_type": "code",
   "execution_count": 251,
   "id": "723b8511",
   "metadata": {},
   "outputs": [
    {
     "data": {
      "text/plain": [
       "289    Lithuania\n",
       "Name: Страна, dtype: object"
      ]
     },
     "execution_count": 251,
     "metadata": {},
     "output_type": "execute_result"
    }
   ],
   "source": [
    "data.loc[data[data['2015'] == data['2015'].max()].index, 'Страна']"
   ]
  },
  {
   "cell_type": "code",
   "execution_count": 252,
   "id": "91e776cd",
   "metadata": {
    "scrolled": true
   },
   "outputs": [
    {
     "data": {
      "text/plain": [
       "406    Russian Federation\n",
       "Name: Страна, dtype: object"
      ]
     },
     "execution_count": 252,
     "metadata": {},
     "output_type": "execute_result"
    }
   ],
   "source": [
    "data.loc[data[data['2016'] == data['2016'].max()].index, 'Страна']"
   ]
  },
  {
   "cell_type": "markdown",
   "id": "9d4647b9",
   "metadata": {},
   "source": [
    "## Страны с минимальным процентом суицида за год"
   ]
  },
  {
   "cell_type": "code",
   "execution_count": 253,
   "id": "432aeff9",
   "metadata": {},
   "outputs": [
    {
     "data": {
      "text/plain": [
       "14    Antigua and Barbuda\n",
       "Name: Страна, dtype: object"
      ]
     },
     "execution_count": 253,
     "metadata": {},
     "output_type": "execute_result"
    }
   ],
   "source": [
    "data.loc[data[data['2000'] == data['2000'].min()].index, 'Страна']"
   ]
  },
  {
   "cell_type": "code",
   "execution_count": 254,
   "id": "ddd79ac5",
   "metadata": {},
   "outputs": [
    {
     "data": {
      "text/plain": [
       "14     Antigua and Barbuda\n",
       "200                Grenada\n",
       "Name: Страна, dtype: object"
      ]
     },
     "execution_count": 254,
     "metadata": {},
     "output_type": "execute_result"
    }
   ],
   "source": [
    "data.loc[data[data['2010'] == data['2010'].min()].index, 'Страна']"
   ]
  },
  {
   "cell_type": "code",
   "execution_count": 255,
   "id": "844b6e97",
   "metadata": {},
   "outputs": [
    {
     "data": {
      "text/plain": [
       "13    Antigua and Barbuda\n",
       "Name: Страна, dtype: object"
      ]
     },
     "execution_count": 255,
     "metadata": {},
     "output_type": "execute_result"
    }
   ],
   "source": [
    "data.loc[data[data['2015'] == data['2015'].min()].index, 'Страна']"
   ]
  },
  {
   "cell_type": "code",
   "execution_count": 256,
   "id": "202eba77",
   "metadata": {},
   "outputs": [
    {
     "data": {
      "text/plain": [
       "13    Antigua and Barbuda\n",
       "Name: Страна, dtype: object"
      ]
     },
     "execution_count": 256,
     "metadata": {},
     "output_type": "execute_result"
    }
   ],
   "source": [
    "data.loc[data[data['2016'] == data['2016'].min()].index, 'Страна']"
   ]
  },
  {
   "cell_type": "markdown",
   "id": "25543e63",
   "metadata": {},
   "source": [
    "## Максимальный процент суицида за год среди мужчин и женщин"
   ]
  },
  {
   "cell_type": "code",
   "execution_count": 257,
   "id": "94a3f689",
   "metadata": {},
   "outputs": [
    {
     "data": {
      "text/plain": [
       "406     Male\n",
       "Name: Пол, dtype: object"
      ]
     },
     "execution_count": 257,
     "metadata": {},
     "output_type": "execute_result"
    }
   ],
   "source": [
    "data.loc[data[data['2000'] == data['2000'].max()].index, 'Пол']"
   ]
  },
  {
   "cell_type": "code",
   "execution_count": 258,
   "id": "10786511",
   "metadata": {},
   "outputs": [
    {
     "data": {
      "text/plain": [
       "406     Male\n",
       "Name: Пол, dtype: object"
      ]
     },
     "execution_count": 258,
     "metadata": {},
     "output_type": "execute_result"
    }
   ],
   "source": [
    "data.loc[data[data['2010'] == data['2010'].max()].index, 'Пол']"
   ]
  },
  {
   "cell_type": "code",
   "execution_count": 259,
   "id": "a6408ccd",
   "metadata": {},
   "outputs": [
    {
     "data": {
      "text/plain": [
       "289     Male\n",
       "Name: Пол, dtype: object"
      ]
     },
     "execution_count": 259,
     "metadata": {},
     "output_type": "execute_result"
    }
   ],
   "source": [
    "data.loc[data[data['2015'] == data['2015'].max()].index, 'Пол']"
   ]
  },
  {
   "cell_type": "code",
   "execution_count": 260,
   "id": "84ac69c0",
   "metadata": {},
   "outputs": [
    {
     "data": {
      "text/plain": [
       "406     Male\n",
       "Name: Пол, dtype: object"
      ]
     },
     "execution_count": 260,
     "metadata": {},
     "output_type": "execute_result"
    }
   ],
   "source": [
    "data.loc[data[data['2016'] == data['2016'].max()].index, 'Пол']"
   ]
  },
  {
   "cell_type": "markdown",
   "id": "b4558dad",
   "metadata": {},
   "source": [
    "## Минимальный процент суицида за год среди мужчин и женщин"
   ]
  },
  {
   "cell_type": "code",
   "execution_count": 261,
   "id": "a13a4012",
   "metadata": {},
   "outputs": [
    {
     "data": {
      "text/plain": [
       "14     Female\n",
       "Name: Пол, dtype: object"
      ]
     },
     "execution_count": 261,
     "metadata": {},
     "output_type": "execute_result"
    }
   ],
   "source": [
    "data.loc[data[data['2000'] == data['2000'].min()].index, 'Пол']"
   ]
  },
  {
   "cell_type": "code",
   "execution_count": 262,
   "id": "bc06f644",
   "metadata": {},
   "outputs": [
    {
     "data": {
      "text/plain": [
       "14      Female\n",
       "200     Female\n",
       "Name: Пол, dtype: object"
      ]
     },
     "execution_count": 262,
     "metadata": {},
     "output_type": "execute_result"
    }
   ],
   "source": [
    "data.loc[data[data['2010'] == data['2010'].min()].index, 'Пол']"
   ]
  },
  {
   "cell_type": "code",
   "execution_count": 263,
   "id": "adbbee22",
   "metadata": {},
   "outputs": [
    {
     "data": {
      "text/plain": [
       "13     Male\n",
       "Name: Пол, dtype: object"
      ]
     },
     "execution_count": 263,
     "metadata": {},
     "output_type": "execute_result"
    }
   ],
   "source": [
    "data.loc[data[data['2015'] == data['2015'].min()].index, 'Пол']"
   ]
  },
  {
   "cell_type": "code",
   "execution_count": 264,
   "id": "becfce8b",
   "metadata": {},
   "outputs": [
    {
     "data": {
      "text/plain": [
       "13     Male\n",
       "Name: Пол, dtype: object"
      ]
     },
     "execution_count": 264,
     "metadata": {},
     "output_type": "execute_result"
    }
   ],
   "source": [
    "data.loc[data[data['2016'] == data['2016'].min()].index, 'Пол']"
   ]
  },
  {
   "cell_type": "code",
   "execution_count": 265,
   "id": "8c2e2729",
   "metadata": {},
   "outputs": [
    {
     "data": {
      "text/html": [
       "<div>\n",
       "<style scoped>\n",
       "    .dataframe tbody tr th:only-of-type {\n",
       "        vertical-align: middle;\n",
       "    }\n",
       "\n",
       "    .dataframe tbody tr th {\n",
       "        vertical-align: top;\n",
       "    }\n",
       "\n",
       "    .dataframe thead th {\n",
       "        text-align: right;\n",
       "    }\n",
       "</style>\n",
       "<table border=\"1\" class=\"dataframe\">\n",
       "  <thead>\n",
       "    <tr style=\"text-align: right;\">\n",
       "      <th></th>\n",
       "      <th>Год</th>\n",
       "      <th>Кол-во суицидов</th>\n",
       "    </tr>\n",
       "  </thead>\n",
       "  <tbody>\n",
       "    <tr>\n",
       "      <th>0</th>\n",
       "      <td>2000</td>\n",
       "      <td>6678</td>\n",
       "    </tr>\n",
       "    <tr>\n",
       "      <th>1</th>\n",
       "      <td>2010</td>\n",
       "      <td>5789</td>\n",
       "    </tr>\n",
       "    <tr>\n",
       "      <th>2</th>\n",
       "      <td>2015</td>\n",
       "      <td>5449</td>\n",
       "    </tr>\n",
       "    <tr>\n",
       "      <th>3</th>\n",
       "      <td>2016</td>\n",
       "      <td>5376</td>\n",
       "    </tr>\n",
       "  </tbody>\n",
       "</table>\n",
       "</div>"
      ],
      "text/plain": [
       "    Год  Кол-во суицидов\n",
       "0  2000             6678\n",
       "1  2010             5789\n",
       "2  2015             5449\n",
       "3  2016             5376"
      ]
     },
     "execution_count": 265,
     "metadata": {},
     "output_type": "execute_result"
    }
   ],
   "source": [
    "import numpy as np\n",
    "summ = pd.DataFrame(np.array([[2000, int(data['2000'].sum())],\n",
    "                                   [2010, int(data['2010'].sum())],\n",
    "                                   [2015, int(data['2015'].sum())],\n",
    "                                   [2016, int(data['2016'].sum())]]),\n",
    "                         columns=['Год', 'Кол-во суицидов'])\n",
    "summ"
   ]
  }
 ],
 "metadata": {
  "kernelspec": {
   "display_name": "Python 3 (ipykernel)",
   "language": "python",
   "name": "python3"
  },
  "language_info": {
   "codemirror_mode": {
    "name": "ipython",
    "version": 3
   },
   "file_extension": ".py",
   "mimetype": "text/x-python",
   "name": "python",
   "nbconvert_exporter": "python",
   "pygments_lexer": "ipython3",
   "version": "3.9.12"
  }
 },
 "nbformat": 4,
 "nbformat_minor": 5
}
